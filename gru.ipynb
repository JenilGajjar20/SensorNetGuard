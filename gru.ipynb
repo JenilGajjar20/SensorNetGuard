{
 "cells": [
  {
   "cell_type": "code",
   "execution_count": null,
   "metadata": {},
   "outputs": [],
   "source": [
    "import numpy as np\n",
    "import pandas as pd\n",
    "from sklearn.model_selection import train_test_split\n",
    "from sklearn.preprocessing import StandardScaler\n",
    "from keras.models import Sequential\n",
    "from keras.layers import GRU, Dense, Dropout\n",
    "from tensorflow.keras.optimizers import Adam, Nadam, Adagrad, SGD\n",
    "from tensorflow.keras import regularizers\n",
    "import matplotlib.pyplot as plt\n"
   ]
  },
  {
   "cell_type": "code",
   "execution_count": null,
   "metadata": {},
   "outputs": [],
   "source": [
    "df = pd.read_csv(\"sensor-nodes.csv\")\n",
    "df.head()\n"
   ]
  },
  {
   "cell_type": "code",
   "execution_count": null,
   "metadata": {},
   "outputs": [],
   "source": [
    "X = df.drop(columns=[\"Node_ID\", \"Timestamp\", \"IP_Address\", \"Is_Malicious\"])\n",
    "y = df[\"Is_Malicious\"]\n"
   ]
  },
  {
   "cell_type": "code",
   "execution_count": null,
   "metadata": {},
   "outputs": [],
   "source": [
    "scaler = StandardScaler()\n",
    "X_scaled = scaler.fit_transform(X)\n"
   ]
  },
  {
   "cell_type": "code",
   "execution_count": null,
   "metadata": {},
   "outputs": [],
   "source": [
    "X_train, X_temp, y_train, y_temp = train_test_split(\n",
    "    X_scaled, y, test_size=0.3, random_state=42)\n",
    "\n",
    "\n",
    "\n",
    "X_val, X_test, y_val, y_test = train_test_split(\n",
    "    X_temp, y_temp, test_size=0.5, random_state=42)\n"
   ]
  },
  {
   "cell_type": "code",
   "execution_count": null,
   "metadata": {},
   "outputs": [],
   "source": [
    "X_train_reshaped = X_train.reshape(-1, 1, X_train.shape[1])\n",
    "X_val_reshaped = X_val.reshape(-1, 1, X_val.shape[1])\n",
    "X_test_reshaped = X_test.reshape(-1, 1, X_test.shape[1])\n"
   ]
  },
  {
   "cell_type": "code",
   "execution_count": null,
   "metadata": {},
   "outputs": [],
   "source": [
    "model = Sequential()\n",
    "model.add(GRU(units=64, input_shape=(\n",
    "    X_train_reshaped.shape[1], X_train_reshaped.shape[2]), kernel_regularizer=regularizers.l1_l2(l1=0.001, l2=0.001)))\n",
    "model.add(Dropout(0.5))\n",
    "# model.add(Dense(units=1, activation='sigmoid'))\n"
   ]
  },
  {
   "cell_type": "code",
   "execution_count": null,
   "metadata": {},
   "outputs": [],
   "source": [
    "adam_optimizer = Adam(learning_rate=0.001)\n",
    "\n",
    "model.compile(optimizer=adam_optimizer,\n",
    "              loss='binary_crossentropy', metrics=['accuracy'])\n",
    "\n",
    "adam_history = model.fit(X_train_reshaped, y_train, epochs=30,\n",
    "                         batch_size=32, validation_data=(X_val_reshaped, y_val))\n"
   ]
  },
  {
   "cell_type": "code",
   "execution_count": null,
   "metadata": {},
   "outputs": [],
   "source": [
    "nadam_optimizer = Nadam(learning_rate=0.001)\n",
    "\n",
    "model.compile(optimizer=nadam_optimizer,\n",
    "              loss='binary_crossentropy', metrics=['accuracy'])\n",
    "\n",
    "nadam_history = model.fit(X_train_reshaped, y_train, epochs=30,\n",
    "                          batch_size=32, validation_data=(X_val_reshaped, y_val))\n"
   ]
  },
  {
   "cell_type": "code",
   "execution_count": null,
   "metadata": {},
   "outputs": [],
   "source": [
    "adagrad_optimizer = Adagrad(learning_rate=0.001)\n",
    "\n",
    "model.compile(optimizer=adagrad_optimizer,\n",
    "              loss='binary_crossentropy', metrics=['accuracy'])\n",
    "\n",
    "adagrad_history = model.fit(X_train_reshaped, y_train, epochs=30,\n",
    "                            batch_size=32, validation_data=(X_val_reshaped, y_val))\n"
   ]
  },
  {
   "cell_type": "code",
   "execution_count": null,
   "metadata": {},
   "outputs": [],
   "source": [
    "sgd_optimizer = SGD(learning_rate=0.001)\n",
    "\n",
    "model.compile(optimizer=sgd_optimizer,\n",
    "              loss='binary_crossentropy', metrics=['accuracy'])\n",
    "\n",
    "sgd_history = model.fit(X_train_reshaped, y_train, epochs=30,\n",
    "                        batch_size=32, validation_data=(X_val_reshaped, y_val))\n"
   ]
  },
  {
   "cell_type": "code",
   "execution_count": null,
   "metadata": {},
   "outputs": [],
   "source": [
    "loss, accuracy = model.evaluate(X_test_reshaped, y_test)\n",
    "print(\"Test loss: \", loss)\n",
    "print(\"Test accuracy: \", accuracy)\n"
   ]
  },
  {
   "cell_type": "code",
   "execution_count": null,
   "metadata": {},
   "outputs": [],
   "source": [
    "plt.figure(figsize=(10, 5))\n",
    "\n",
    "plt.plot(adam_history.history['loss'],\n",
    "         label=\"Adam Training Loss\", color=\"blue\")\n",
    "plt.plot(adam_history.history['val_loss'],\n",
    "         label=\"Adam Validation Loss\", color=\"lightblue\")\n",
    "\n",
    "plt.title(\"Training and Validation loss for different optimizers\")\n",
    "plt.xlabel(\"Epoch\")\n",
    "plt.ylabel(\"Loss\")\n",
    "plt.legend()\n",
    "plt.grid(True)\n",
    "plt.show()\n"
   ]
  },
  {
   "cell_type": "code",
   "execution_count": null,
   "metadata": {},
   "outputs": [],
   "source": [
    "plt.plot(nadam_history.history['loss'],\n",
    "         label=\"Nadam Training Loss\", color=\"red\")\n",
    "\n",
    "\n",
    "plt.plot(nadam_history.history['val_loss'],\n",
    "         label=\"Nadam Validation Loss\", color=\"lightcoral\")\n",
    "\n",
    "\n",
    "\n",
    "plt.title(\"Training and Validation loss for different optimizers\")\n",
    "\n",
    "\n",
    "plt.xlabel(\"Epoch\")\n",
    "\n",
    "\n",
    "plt.ylabel(\"Loss\")\n",
    "plt.legend()\n",
    "\n",
    "\n",
    "\n",
    "plt.grid(True)\n",
    "\n",
    "\n",
    "plt.show()\n"
   ]
  },
  {
   "cell_type": "code",
   "execution_count": null,
   "metadata": {},
   "outputs": [],
   "source": [
    "plt.plot(adagrad_history.history['loss'],\n",
    "         label=\"Adagrad Training Loss\", color=\"green\")\n",
    "\n",
    "\n",
    "plt.plot(adagrad_history.history['val_loss'],\n",
    "         label=\"Adagrad Validation Loss\", color=\"lightgreen\")\n",
    "\n",
    "\n",
    "\n",
    "plt.title(\"Training and Validation loss for different optimizers\")\n",
    "\n",
    "\n",
    "plt.xlabel(\"Epoch\")\n",
    "\n",
    "\n",
    "plt.ylabel(\"Loss\")\n",
    "plt.legend()\n",
    "\n",
    "\n",
    "\n",
    "plt.grid(True)\n",
    "\n",
    "\n",
    "plt.show()\n"
   ]
  },
  {
   "cell_type": "code",
   "execution_count": null,
   "metadata": {},
   "outputs": [],
   "source": [
    "plt.plot(sgd_history.history['loss'],\n",
    "         label=\"SGD Training Loss\", color=\"yellow\")\n",
    "plt.plot(sgd_history.history['val_loss'],\n",
    "         label=\"SGD Validation Loss\", color=\"gold\")\n",
    "\n",
    "plt.title(\"Training and Validation loss for different optimizers\")\n",
    "plt.xlabel(\"Epoch\")\n",
    "plt.ylabel(\"Loss\")\n",
    "plt.legend()\n",
    "plt.grid(True)\n",
    "plt.show()\n"
   ]
  },
  {
   "cell_type": "code",
   "execution_count": null,
   "metadata": {},
   "outputs": [],
   "source": [
    "plt.figure(figsize=(10, 5))\n",
    "\n",
    "plt.plot(adam_history.history['accuracy'],\n",
    "         label=\"Adam Training Accuracy\", color=\"blue\")\n",
    "plt.plot(adam_history.history['val_accuracy'],\n",
    "         label=\"Adam Validation Accuracy\", color=\"lightblue\")\n",
    "\n",
    "plt.title(\"Training and Validation accuracy for different optimizers\")\n",
    "plt.xlabel(\"Epoch\")\n",
    "plt.ylabel(\"Accuracy\")\n",
    "plt.legend()\n",
    "plt.grid(True)\n",
    "plt.show()\n"
   ]
  },
  {
   "cell_type": "code",
   "execution_count": null,
   "metadata": {},
   "outputs": [],
   "source": [
    "plt.plot(nadam_history.history['accuracy'],\n",
    "         label=\"Nadam Training Accuracy\", color=\"red\")\n",
    "\n",
    "\n",
    "plt.plot(nadam_history.history['val_accuracy'],\n",
    "         label=\"Nadam Validation Accuracy\", color=\"lightcoral\")\n",
    "\n",
    "\n",
    "\n",
    "plt.title(\"Training and Validation accuracy for different optimizers\")\n",
    "\n",
    "\n",
    "plt.xlabel(\"Epoch\")\n",
    "\n",
    "\n",
    "plt.ylabel(\"Accuracy\")\n",
    "plt.legend()\n",
    "\n",
    "\n",
    "\n",
    "plt.grid(True)\n",
    "\n",
    "\n",
    "plt.show()\n"
   ]
  },
  {
   "cell_type": "code",
   "execution_count": null,
   "metadata": {},
   "outputs": [],
   "source": [
    "plt.plot(adagrad_history.history['accuracy'],\n",
    "         label=\"Adagrad Training Accuracy\", color=\"green\")\n",
    "\n",
    "\n",
    "plt.plot(adagrad_history.history['val_accuracy'],\n",
    "         label=\"Adagrad Validation Accuracy\", color=\"lightgreen\")\n",
    "\n",
    "\n",
    "\n",
    "plt.title(\"Training and Validation accuracy for different optimizers\")\n",
    "\n",
    "\n",
    "plt.xlabel(\"Epoch\")\n",
    "\n",
    "\n",
    "plt.ylabel(\"Accuracy\")\n",
    "plt.legend()\n",
    "\n",
    "\n",
    "\n",
    "plt.grid(True)\n",
    "\n",
    "\n",
    "plt.show()\n"
   ]
  },
  {
   "cell_type": "code",
   "execution_count": null,
   "metadata": {},
   "outputs": [],
   "source": [
    "plt.plot(sgd_history.history['accuracy'],\n",
    "         label=\"SGD Training Accuracy\", color=\"yellow\")\n",
    "plt.plot(sgd_history.history['val_accuracy'],\n",
    "         label=\"SGD Validation Accuracy\", color=\"gold\")\n",
    "\n",
    "plt.title(\"Training and Validation accuracy for different optimizers\")\n",
    "plt.xlabel(\"Epoch\")\n",
    "plt.ylabel(\"Accuracy\")\n",
    "plt.legend()\n",
    "plt.grid(True)\n",
    "plt.show()\n"
   ]
  },
  {
   "cell_type": "code",
   "execution_count": null,
   "metadata": {},
   "outputs": [],
   "source": [
    "plt.plot(adam_history.history['loss'],\n",
    "         label=\"Adam Training Loss\", color=\"blue\")\n",
    "plt.plot(adam_history.history['val_loss'],\n",
    "         label=\"Adam Validation Loss\", color=\"lightblue\")\n",
    "\n",
    "\n",
    "\n",
    "plt.plot(nadam_history.history['loss'],\n",
    "         label=\"Nadam Training Loss\", color=\"red\")\n",
    "plt.plot(nadam_history.history['val_loss'],\n",
    "         label=\"Nadam Validation Loss\", color=\"lightcoral\")\n",
    "\n",
    "plt.plot(adagrad_history.history['loss'],\n",
    "         label=\"Adagrad Training Loss\", color=\"green\")\n",
    "plt.plot(adagrad_history.history['val_loss'],\n",
    "         label=\"Adagrad Validation Loss\", color=\"lightgreen\")\n",
    "\n",
    "plt.plot(sgd_history.history['loss'],\n",
    "         label=\"SGD Training Loss\", color=\"yellow\")\n",
    "plt.plot(sgd_history.history['val_loss'],\n",
    "         label=\"SGD Validation Loss\", color=\"gold\")\n",
    "\n",
    "\n",
    "\n",
    "plt.title(\"Training and Validation loss comparison for different optimizers\")\n",
    "plt.xlabel(\"Epoch\")\n",
    "plt.ylabel(\"Loss\")\n",
    "\n",
    "\n",
    "plt.legend()\n",
    "plt.grid(True)\n",
    "plt.show()\n"
   ]
  },
  {
   "cell_type": "code",
   "execution_count": null,
   "metadata": {},
   "outputs": [],
   "source": [
    "plt.plot(adam_history.history['accuracy'],\n",
    "         label=\"Adam Training Accuracy\", color=\"blue\")\n",
    "plt.plot(adam_history.history['val_accuracy'],\n",
    "         label=\"Adam Validation Accuracy\", color=\"lightblue\")\n",
    "\n",
    "\n",
    "\n",
    "plt.plot(nadam_history.history['accuracy'],\n",
    "         label=\"Nadam Training Accuracy\", color=\"red\")\n",
    "\n",
    "\n",
    "plt.plot(nadam_history.history['val_accuracy'],\n",
    "         label=\"Nadam Validation Accuracy\", color=\"lightcoral\")\n",
    "\n",
    "plt.plot(adagrad_history.history['accuracy'],\n",
    "         label=\"Adagrad Training Accuracy\", color=\"green\")\n",
    "plt.plot(adagrad_history.history['val_accuracy'],\n",
    "         label=\"Adagrad Validation Accuracy\", color=\"lightgreen\")\n",
    "\n",
    "plt.plot(sgd_history.history['accuracy'],\n",
    "         label=\"SGD Training Accuracy\", color=\"yellow\")\n",
    "plt.plot(sgd_history.history['val_accuracy'],\n",
    "         label=\"SGD Validation Accuracy\", color=\"gold\")\n",
    "\n",
    "\n",
    "\n",
    "plt.title(\"Training and Validation accuracy comparison for different optimizers\")\n",
    "plt.xlabel(\"Epoch\")\n",
    "plt.ylabel(\"Accuracy\")\n",
    "\n",
    "\n",
    "plt.legend()\n",
    "plt.grid(True)\n",
    "plt.show()\n"
   ]
  }
 ],
 "metadata": {
  "kernelspec": {
   "display_name": "Python 3",
   "language": "python",
   "name": "python3"
  },
  "language_info": {
   "codemirror_mode": {
    "name": "ipython",
    "version": 3
   },
   "file_extension": ".py",
   "mimetype": "text/x-python",
   "name": "python",
   "nbconvert_exporter": "python",
   "pygments_lexer": "ipython3",
   "version": "3.11.4"
  }
 },
 "nbformat": 4,
 "nbformat_minor": 2
}
