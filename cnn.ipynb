{
 "cells": [
  {
   "cell_type": "code",
   "execution_count": null,
   "metadata": {},
   "outputs": [],
   "source": [
    "import pandas as pd\n",
    "import numpy as np\n",
    "from sklearn.model_selection import train_test_split\n",
    "from tensorflow.keras import regularizers\n",
    "from sklearn.preprocessing import StandardScaler\n",
    "from keras.models import Sequential\n",
    "from keras.layers import Conv1D, MaxPooling1D, Flatten, Dense, Dropout\n",
    "from tensorflow.keras.optimizers import Adam, Nadam, Adagrad, SGD, RMSprop\n",
    "import matplotlib.pyplot as plt\n"
   ]
  },
  {
   "cell_type": "code",
   "execution_count": null,
   "metadata": {},
   "outputs": [],
   "source": [
    "df = pd.read_csv(\"sensor-nodes.csv\")\n",
    "df.head()\n"
   ]
  },
  {
   "cell_type": "code",
   "execution_count": null,
   "metadata": {},
   "outputs": [],
   "source": [
    "X = df.drop(columns=['Node_ID', 'Timestamp', 'IP_Address', 'Is_Malicious'])\n",
    "y = df['Is_Malicious']\n"
   ]
  },
  {
   "cell_type": "code",
   "execution_count": null,
   "metadata": {},
   "outputs": [],
   "source": [
    "scaler = StandardScaler()\n",
    "X_scaled = scaler.fit_transform(X)\n"
   ]
  },
  {
   "cell_type": "code",
   "execution_count": null,
   "metadata": {},
   "outputs": [],
   "source": [
    "X_train, X_temp, y_train, y_temp = train_test_split(\n",
    "    X_scaled, y, test_size=0.3, random_state=42)\n",
    "\n",
    "X_val, X_test, y_val, y_test = train_test_split(\n",
    "    X_temp, y_temp, test_size=0.5, random_state=42)\n",
    "\n",
    "print(\"Shape of X_train:\", X_train.shape)\n"
   ]
  },
  {
   "cell_type": "code",
   "execution_count": null,
   "metadata": {},
   "outputs": [],
   "source": [
    "sequence_length = X_train.shape[1]\n",
    "num_features = 1\n",
    "\n",
    "X_train_reshaped = X_train.reshape(-1, sequence_length, num_features)\n",
    "X_val_reshaped = X_val.reshape(-1, sequence_length, num_features)\n",
    "X_test_reshaped = X_test.reshape(-1, sequence_length, num_features)\n"
   ]
  },
  {
   "cell_type": "code",
   "execution_count": null,
   "metadata": {},
   "outputs": [],
   "source": [
    "model = Sequential()\n",
    "\n",
    "model.add(Conv1D(filters=64, kernel_size=3, activation='relu', input_shape=(\n",
    "    sequence_length, num_features), kernel_regularizer=regularizers.l1_l2(l1=0.001, l2=0.001)))\n",
    "\n",
    "model.add(MaxPooling1D(pool_size=2))\n",
    "\n",
    "model.add(Conv1D(filters=32, kernel_size=3, activation='relu'))\n",
    "\n",
    "model.add(MaxPooling1D(pool_size=2))\n",
    "\n",
    "model.add(Flatten())\n",
    "\n",
    "model.add(Dense(128, activation='relu'))\n",
    "\n",
    "model.add(Dropout(0.5))\n",
    "\n",
    "# model.add(Dense(1, activation='sigmoid'))\n"
   ]
  },
  {
   "cell_type": "code",
   "execution_count": null,
   "metadata": {},
   "outputs": [],
   "source": [
    "adam_optimizer = Adam(learning_rate=0.001)\n",
    "\n",
    "model.compile(optimizer=adam_optimizer,\n",
    "              loss='binary_crossentropy', metrics=['accuracy'])\n",
    "\n",
    "adam_history = model.fit(X_train_reshaped, y_train, epochs=30,\n",
    "                         batch_size=32, validation_data=(X_val_reshaped, y_val))\n"
   ]
  },
  {
   "cell_type": "code",
   "execution_count": null,
   "metadata": {},
   "outputs": [],
   "source": [
    "nadam_optimizer = Nadam(learning_rate=0.001)\n",
    "\n",
    "model.compile(optimizer=nadam_optimizer,\n",
    "              loss='binary_crossentropy', metrics=['accuracy'])\n",
    "\n",
    "nadam_history = model.fit(X_train_reshaped, y_train, epochs=30,\n",
    "                          batch_size=32, validation_data=(X_val_reshaped, y_val))\n"
   ]
  },
  {
   "cell_type": "code",
   "execution_count": null,
   "metadata": {},
   "outputs": [],
   "source": [
    "adagrad_optimizer = Adagrad(learning_rate=0.001)\n",
    "\n",
    "model.compile(optimizer=adagrad_optimizer,\n",
    "              loss='binary_crossentropy', metrics=['accuracy'])\n",
    "\n",
    "adagrad_history = model.fit(X_train_reshaped, y_train, epochs=30,\n",
    "                            batch_size=32, validation_data=(X_val_reshaped, y_val))\n"
   ]
  },
  {
   "cell_type": "code",
   "execution_count": null,
   "metadata": {},
   "outputs": [],
   "source": [
    "sgd_optimizer = SGD(learning_rate=0.001)\n",
    "\n",
    "model.compile(optimizer=sgd_optimizer,\n",
    "              loss='binary_crossentropy', metrics=['accuracy'])\n",
    "\n",
    "sgd_history = model.fit(X_train_reshaped, y_train, epochs=30,\n",
    "                        batch_size=32, validation_data=(X_val_reshaped, y_val))\n"
   ]
  },
  {
   "cell_type": "code",
   "execution_count": null,
   "metadata": {},
   "outputs": [],
   "source": [
    "rms_optimizer = RMSprop(learning_rate=0.001)\n",
    "\n",
    "model.compile(optimizer=rms_optimizer,\n",
    "              loss='binary_crossentropy', metrics=['accuracy'])\n",
    "\n",
    "rms_history = model.fit(X_train_reshaped, y_train, epochs=30,\n",
    "                        batch_size=32, validation_data=(X_val_reshaped, y_val))\n"
   ]
  },
  {
   "cell_type": "code",
   "execution_count": null,
   "metadata": {},
   "outputs": [],
   "source": [
    "loss, accuracy = model.evaluate(X_test_reshaped, y_test)\n",
    "print(\"Test Loss:\", loss)\n",
    "print(\"Test Accuracy:\", accuracy)\n"
   ]
  },
  {
   "cell_type": "code",
   "execution_count": null,
   "metadata": {},
   "outputs": [],
   "source": [
    "plt.figure(figsize=(10, 5))\n",
    "\n",
    "plt.plot(adam_history.history['loss'], label='Training Loss')\n",
    "plt.plot(adam_history.history['val_loss'], label='Validation Loss')\n",
    "\n",
    "plt.title(\"Training and Validation Loss\")\n",
    "plt.xlabel('Epoch')\n",
    "plt.ylabel('Loss')\n",
    "plt.legend()\n",
    "plt.grid(True)\n",
    "plt.show()\n"
   ]
  },
  {
   "cell_type": "code",
   "execution_count": null,
   "metadata": {},
   "outputs": [],
   "source": [
    "plt.figure(figsize=(10, 5))\n",
    "\n",
    "plt.plot(adam_history.history['accuracy'], label='Training Accuracy')\n",
    "plt.plot(adam_history.history['val_accuracy'], label='Validation Accuracy')\n",
    "\n",
    "plt.title(\"Training and Validation Accuracy\")\n",
    "plt.xlabel('Epoch')\n",
    "plt.ylabel('Accuracy')\n",
    "plt.legend()\n",
    "plt.grid(True)\n",
    "plt.show()\n"
   ]
  },
  {
   "cell_type": "code",
   "execution_count": null,
   "metadata": {},
   "outputs": [],
   "source": [
    "plt.figure(figsize=(10, 5))\n",
    "\n",
    "plt.plot(nadam_history.history['loss'], label='Training Loss')\n",
    "plt.plot(nadam_history.history['val_loss'], label='Validation Loss')\n",
    "\n",
    "plt.title(\"Training and Validation Loss\")\n",
    "plt.xlabel('Epoch')\n",
    "plt.ylabel('Loss')\n",
    "plt.legend()\n",
    "plt.grid(True)\n",
    "plt.show()\n"
   ]
  },
  {
   "cell_type": "code",
   "execution_count": null,
   "metadata": {},
   "outputs": [],
   "source": [
    "plt.figure(figsize=(10, 5))\n",
    "\n",
    "plt.plot(nadam_history.history['accuracy'], label='Training Accuracy')\n",
    "plt.plot(nadam_history.history['val_accuracy'], label='Validation Accuracy')\n",
    "\n",
    "plt.title(\"Training and Validation Accuracy\")\n",
    "plt.xlabel('Epoch')\n",
    "plt.ylabel('Accuracy')\n",
    "plt.legend()\n",
    "plt.grid(True)\n",
    "plt.show()\n"
   ]
  },
  {
   "cell_type": "code",
   "execution_count": null,
   "metadata": {},
   "outputs": [],
   "source": [
    "plt.figure(figsize=(10, 5))\n",
    "\n",
    "plt.plot(adagrad_history.history['loss'], label='Training Loss')\n",
    "plt.plot(adagrad_history.history['val_loss'], label='Validation Loss')\n",
    "plt.title(\"Training and Validation Loss\")\n",
    "plt.xlabel('Epoch')\n",
    "plt.ylabel('Loss')\n",
    "plt.legend()\n",
    "plt.grid(True)\n",
    "plt.show()\n"
   ]
  },
  {
   "cell_type": "code",
   "execution_count": null,
   "metadata": {},
   "outputs": [],
   "source": [
    "plt.figure(figsize=(10, 5))\n",
    "\n",
    "plt.plot(adagrad_history.history['accuracy'], label='Training Accuracy')\n",
    "plt.plot(adagrad_history.history['val_accuracy'], label='Validation Accuracy')\n",
    "plt.title(\"Training and Validation Accuracy\")\n",
    "plt.xlabel('Epoch')\n",
    "plt.ylabel('Accuracy')\n",
    "plt.legend()\n",
    "plt.grid(True)\n",
    "plt.show()\n"
   ]
  },
  {
   "cell_type": "code",
   "execution_count": null,
   "metadata": {},
   "outputs": [],
   "source": [
    "plt.figure(figsize=(10, 5))\n",
    "\n",
    "plt.plot(sgd_history.history['loss'], label='Training Loss')\n",
    "plt.plot(sgd_history.history['val_loss'], label='Training Loss')\n",
    "\n",
    "plt.title(\"Training and Validation Loss\")\n",
    "plt.xlabel('Epoch')\n",
    "plt.ylabel('Loss')\n",
    "plt.legend()\n",
    "plt.grid(True)\n",
    "plt.show()\n"
   ]
  },
  {
   "cell_type": "code",
   "execution_count": null,
   "metadata": {},
   "outputs": [],
   "source": [
    "plt.figure(figsize=(10, 5))\n",
    "\n",
    "plt.plot(sgd_history.history['accuracy'], label='Training Accuracy')\n",
    "plt.plot(sgd_history.history['val_accuracy'], label='Validation Accuracy')\n",
    "plt.title(\"Training and Validation Accuracy\")\n",
    "plt.xlabel('Epoch')\n",
    "plt.ylabel('Accuracy')\n",
    "plt.legend()\n",
    "plt.grid(True)\n",
    "plt.show()\n"
   ]
  },
  {
   "cell_type": "code",
   "execution_count": null,
   "metadata": {},
   "outputs": [],
   "source": [
    "plt.figure(figsize=(10, 5))\n",
    "\n",
    "plt.plot(rms_history.history['loss'], label='Training Loss')\n",
    "plt.plot(rms_history.history['val_loss'], label='Validation Loss')\n",
    "plt.title('Training and Validation Loss')\n",
    "plt.xlabel('Epoch')\n",
    "plt.ylabel('Loss')\n",
    "plt.legend()\n",
    "plt.grid(True)\n",
    "plt.show()\n"
   ]
  },
  {
   "cell_type": "code",
   "execution_count": null,
   "metadata": {},
   "outputs": [],
   "source": [
    "plt.figure(figsize=(10, 5))\n",
    "\n",
    "plt.plot(rms_history.history['accuracy'], label='Training Accuracy')\n",
    "plt.plot(rms_history.history['val_accuracy'], label='Validation Accuracy')\n",
    "plt.title('Training and Validation Accuracy')\n",
    "plt.xlabel('Epoch')\n",
    "plt.ylabel('Accuracy')\n",
    "plt.legend()\n",
    "plt.grid(True)\n",
    "plt.show()\n"
   ]
  },
  {
   "cell_type": "code",
   "execution_count": null,
   "metadata": {},
   "outputs": [],
   "source": [
    "plt.plot(adam_history.history['loss'],\n",
    "         label=\"Adam Training Loss\", color=\"blue\")\n",
    "\n",
    "\n",
    "plt.plot(adam_history.history['val_loss'],\n",
    "         label=\"Adam Validation Loss\", color=\"lightblue\")\n",
    "\n",
    "\n",
    "plt.plot(nadam_history.history['loss'],\n",
    "         label=\"Nadam Training Loss\", color=\"red\")\n",
    "plt.plot(nadam_history.history['val_loss'],\n",
    "         label=\"Nadam Validation Loss\", color=\"lightcoral\")\n",
    "\n",
    "plt.plot(adagrad_history.history['loss'],\n",
    "         label=\"Adagrad Training Loss\", color=\"green\")\n",
    "plt.plot(adagrad_history.history['val_loss'],\n",
    "         label=\"Adagrad Validation Loss\", color=\"lightgreen\")\n",
    "\n",
    "plt.plot(sgd_history.history['loss'],\n",
    "         label=\"SGD Training Loss\", color=\"yellow\")\n",
    "plt.plot(sgd_history.history['val_loss'],\n",
    "         label=\"SGD Validation Loss\", color=\"gold\")\n",
    "\n",
    "plt.plot(rms_history.history['loss'],\n",
    "         label=\"RMS Training Loss\", color=\"pink\")\n",
    "plt.plot(rms_history.history['val_loss'],\n",
    "         label=\"RMS Validation Loss\", color=\"purple\")\n",
    "\n",
    "plt.title(\"Training and Validation loss comparison for different optimizers\")\n",
    "plt.xlabel(\"Epoch\")\n",
    "plt.ylabel(\"Loss\")\n",
    "plt.legend()\n",
    "plt.grid(True)\n",
    "plt.show()\n"
   ]
  },
  {
   "cell_type": "code",
   "execution_count": null,
   "metadata": {},
   "outputs": [],
   "source": [
    "plt.plot(adam_history.history['accuracy'],\n",
    "         label=\"Adam Training Accuracy\", color=\"blue\")\n",
    "\n",
    "\n",
    "plt.plot(adam_history.history['val_accuracy'],\n",
    "         label=\"Adam Validation Accuracy\", color=\"lightblue\")\n",
    "\n",
    "\n",
    "plt.plot(nadam_history.history['accuracy'],\n",
    "         label=\"Nadam Training Accuracy\", color=\"red\")\n",
    "\n",
    "\n",
    "plt.plot(nadam_history.history['val_accuracy'],\n",
    "         label=\"Nadam Validation Accuracy\", color=\"lightcoral\")\n",
    "\n",
    "\n",
    "plt.plot(adagrad_history.history['accuracy'],\n",
    "         label=\"Adagrad Training Accuracy\", color=\"green\")\n",
    "\n",
    "\n",
    "plt.plot(adagrad_history.history['val_accuracy'],\n",
    "         label=\"Adagrad Validation Accuracy\", color=\"lightgreen\")\n",
    "\n",
    "plt.plot(sgd_history.history['accuracy'],\n",
    "         label=\"SGD Training Accuracy\", color=\"yellow\")\n",
    "plt.plot(sgd_history.history['val_accuracy'],\n",
    "         label=\"SGD Validation Accuracy\", color=\"gold\")\\\n",
    "\n",
    "\n",
    "plt.plot(rms_history.history['accuracy'],\n",
    "         label=\"RMS Training Accuracy\", color=\"pink\")\n",
    "plt.plot(rms_history.history['val_accuracy'],\n",
    "         label=\"RMS Validation Accuracy\", color=\"purple\")\n",
    "\n",
    "plt.title(\"Training and Validation accuracy comparison for different optimizers\")\n",
    "\n",
    "\n",
    "plt.xlabel(\"Epoch\")\n",
    "plt.ylabel(\"Accuracy\")\n",
    "plt.legend()\n",
    "\n",
    "\n",
    "plt.grid(True)\n",
    "\n",
    "\n",
    "plt.show()\n"
   ]
  },
  {
   "cell_type": "code",
   "execution_count": null,
   "metadata": {},
   "outputs": [],
   "source": []
  }
 ],
 "metadata": {
  "kernelspec": {
   "display_name": "Python 3",
   "language": "python",
   "name": "python3"
  },
  "language_info": {
   "codemirror_mode": {
    "name": "ipython",
    "version": 3
   },
   "file_extension": ".py",
   "mimetype": "text/x-python",
   "name": "python",
   "nbconvert_exporter": "python",
   "pygments_lexer": "ipython3",
   "version": "3.11.4"
  }
 },
 "nbformat": 4,
 "nbformat_minor": 2
}
