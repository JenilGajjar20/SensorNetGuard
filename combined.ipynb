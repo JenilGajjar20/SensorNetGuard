{
 "cells": [
  {
   "cell_type": "code",
   "execution_count": null,
   "metadata": {},
   "outputs": [],
   "source": [
    "import pandas as pd\n",
    "import numpy as np\n",
    "import matplotlib.pyplot as plt\n",
    "from sklearn.model_selection import train_test_split\n",
    "from sklearn.preprocessing import StandardScaler\n",
    "from tensorflow.keras import regularizers\n",
    "from tensorflow.keras.models import Sequential\n",
    "from tensorflow.keras.layers import LSTM, GRU, Conv1D, Dense, Dropout, MaxPooling1D, Flatten\n",
    "from tensorflow.keras.optimizers import Adam, Nadam, Adagrad\n",
    "# from tensorflow.keras.callbacks import EarlyStopping\n"
   ]
  },
  {
   "cell_type": "code",
   "execution_count": null,
   "metadata": {},
   "outputs": [],
   "source": [
    "df = pd.read_csv(\"sensor-nodes.csv\")\n",
    "df.head(10)\n"
   ]
  },
  {
   "cell_type": "code",
   "execution_count": null,
   "metadata": {},
   "outputs": [],
   "source": [
    "X = df.drop(columns=['Node_ID', 'Timestamp', 'IP_Address', 'Is_Malicious'])\n",
    "y = df['Is_Malicious']\n"
   ]
  },
  {
   "cell_type": "code",
   "execution_count": null,
   "metadata": {},
   "outputs": [],
   "source": [
    "scaler = StandardScaler()\n",
    "X_scaled = scaler.fit_transform(X)\n"
   ]
  },
  {
   "cell_type": "code",
   "execution_count": null,
   "metadata": {},
   "outputs": [],
   "source": [
    "# LSTM\n",
    "X_train_val_lstm, X_test_lstm, y_train_val_lstm, y_test_lstm = train_test_split(\n",
    "    X_scaled, y, test_size=0.2, random_state=42)\n",
    "\n",
    "X_train_lstm, X_val_lstm, y_train_lstm, y_val_lstm = train_test_split(\n",
    "    X_train_val_lstm, y_train_val_lstm, test_size=0.25, random_state=42)\n",
    "\n",
    "print(\"Shape of X_train:\", X_train_lstm.shape)\n",
    "print(\"Shape of X_val:\", X_val_lstm.shape)\n",
    "print(\"Shape of X_test:\", X_test_lstm.shape)\n",
    "print(\"Shape of y_train:\", y_train_lstm.shape)\n",
    "print(\"Shape of y_val:\", y_val_lstm.shape)\n",
    "print(\"Shape of y_test:\", y_test_lstm.shape)\n"
   ]
  },
  {
   "cell_type": "code",
   "execution_count": null,
   "metadata": {},
   "outputs": [],
   "source": [
    "sequence_length = X_train_lstm.shape[1]\n",
    "num_features = 1\n",
    "\n",
    "X_train_reshaped_lstm = np.expand_dims(X_train_lstm, axis=-1)\n",
    "X_val_reshaped_lstm = np.expand_dims(X_val_lstm, axis=-1)\n",
    "X_test_reshaped_lstm = np.expand_dims(X_test_lstm, axis=-1)\n",
    "\n",
    "print(\"Sequence length: \", sequence_length)\n",
    "print(\"Num of features: \", num_features)\n"
   ]
  },
  {
   "cell_type": "code",
   "execution_count": null,
   "metadata": {},
   "outputs": [],
   "source": [
    "lstm_model = Sequential()\n",
    "lstm_model.add(LSTM(units=64, input_shape=(sequence_length, num_features),\n",
    "               kernel_regularizer=regularizers.l1_l2(l1=0.001, l2=0.001)))\n",
    "lstm_model.add(Dropout(0.5))\n"
   ]
  },
  {
   "cell_type": "code",
   "execution_count": null,
   "metadata": {},
   "outputs": [],
   "source": [
    "# Adam Optimizer\n",
    "lstm_adam_optimizer = Adam(learning_rate=0.001)\n",
    "\n",
    "lstm_model.compile(optimizer=lstm_adam_optimizer,\n",
    "                   loss='binary_crossentropy', metrics=['accuracy'])\n",
    "\n",
    "lstm_adam_history = lstm_model.fit(X_train_reshaped_lstm, y_train_lstm,\n",
    "                                   epochs=30, batch_size=32, validation_data=(X_val_reshaped_lstm, y_val_lstm))\n"
   ]
  },
  {
   "cell_type": "code",
   "execution_count": null,
   "metadata": {},
   "outputs": [],
   "source": [
    "lstm_nadam_optimizer = Nadam(learning_rate=0.001)\n",
    "lstm_model.compile(optimizer=lstm_nadam_optimizer,\n",
    "                   loss='binary_crossentropy', metrics=['accuracy'])\n",
    "lstm_nadam_history = lstm_model.fit(X_train_reshaped_lstm, y_train_lstm,\n",
    "                                    epochs=30, batch_size=32, validation_data=(X_val_reshaped_lstm, y_val_lstm))\n"
   ]
  },
  {
   "cell_type": "code",
   "execution_count": null,
   "metadata": {},
   "outputs": [],
   "source": [
    "lstm_adagrad_optimizer = Adagrad(learning_rate=0.001)\n",
    "lstm_model.compile(optimizer=lstm_adagrad_optimizer,\n",
    "                   loss='binary_crossentropy', metrics=['accuracy'])\n",
    "lstm_adagrad_history = lstm_model.fit(X_train_reshaped_lstm, y_train_lstm,\n",
    "                                      epochs=30, batch_size=32, validation_data=(X_val_reshaped_lstm, y_val_lstm))\n"
   ]
  },
  {
   "cell_type": "code",
   "execution_count": null,
   "metadata": {},
   "outputs": [],
   "source": [
    "lstm_loss, lstm_accuracy = lstm_model.evaluate(\n",
    "    X_test_reshaped_lstm, y_test_lstm)\n",
    "print(\"Test LSTM Loss: \", lstm_loss)\n",
    "print(\"Test LSTM Accuracy: \", lstm_accuracy)\n"
   ]
  },
  {
   "cell_type": "code",
   "execution_count": null,
   "metadata": {},
   "outputs": [],
   "source": [
    "# GRU\n",
    "X_train_gru, X_temp_gru, y_train_gru, y_temp_gru = train_test_split(\n",
    "    X_scaled, y, test_size=0.3, random_state=42)\n",
    "\n",
    "X_val_gru, X_test_gru, y_val_gru, y_test_gru = train_test_split(\n",
    "    X_temp_gru, y_temp_gru, test_size=0.5, random_state=42)\n",
    "\n",
    "X_train_reshaped_gru = X_train_gru.reshape(-1, 1, X_train_gru.shape[1])\n",
    "X_val_reshaped_gru = X_val_gru.reshape(-1, 1, X_val_gru.shape[1])\n",
    "X_test_reshaped_gru = X_test_gru.reshape(-1, 1, X_test_gru.shape[1])\n"
   ]
  },
  {
   "cell_type": "code",
   "execution_count": null,
   "metadata": {},
   "outputs": [],
   "source": [
    "gru_model = Sequential()\n",
    "gru_model.add(GRU(units=64, input_shape=(\n",
    "    X_train_reshaped_gru.shape[1], X_train_reshaped_gru.shape[2]), kernel_regularizer=regularizers.l1_l2(l1=0.001, l2=0.001)))\n",
    "gru_model.add(Dropout(0.5))\n"
   ]
  },
  {
   "cell_type": "code",
   "execution_count": null,
   "metadata": {},
   "outputs": [],
   "source": [
    "gru_adam_optimizer = Adam(learning_rate=0.001)\n",
    "gru_model.compile(optimizer=gru_adam_optimizer,\n",
    "                  loss='binary_crossentropy', metrics=['accuracy'])\n",
    "\n",
    "gru_adam_history = gru_model.fit(X_train_reshaped_gru, y_train_gru, epochs=30,\n",
    "                                 batch_size=32, validation_data=(X_val_reshaped_gru, y_val_gru))\n"
   ]
  },
  {
   "cell_type": "code",
   "execution_count": null,
   "metadata": {},
   "outputs": [],
   "source": [
    "gru_nadam_optimizer = Nadam(learning_rate=0.001)\n",
    "gru_model.compile(optimizer=gru_nadam_optimizer,\n",
    "                  loss='binary_crossentropy', metrics=['accuracy'])\n",
    "\n",
    "gru_nadam_history = gru_model.fit(X_train_reshaped_gru, y_train_gru, epochs=30,\n",
    "                                  batch_size=32, validation_data=(X_val_reshaped_gru, y_val_gru))\n"
   ]
  },
  {
   "cell_type": "code",
   "execution_count": null,
   "metadata": {},
   "outputs": [],
   "source": [
    "gru_adagrad_optimizer = Adagrad(learning_rate=0.001)\n",
    "gru_model.compile(optimizer=gru_adagrad_optimizer,\n",
    "                  loss='binary_crossentropy', metrics=['accuracy'])\n",
    "\n",
    "gru_adagrad_history = gru_model.fit(X_train_reshaped_gru, y_train_gru,\n",
    "                                    epochs=30, batch_size=32, validation_data=(X_val_reshaped_gru, y_val_gru))\n"
   ]
  },
  {
   "cell_type": "code",
   "execution_count": null,
   "metadata": {},
   "outputs": [],
   "source": [
    "gru_loss, gru_accuracy = gru_model.evaluate(X_test_reshaped_gru, y_test_gru)\n",
    "print(\"Test GRU Loss: \", gru_loss)\n",
    "print(\"Test GRU Accuracy: \", gru_accuracy)\n"
   ]
  },
  {
   "cell_type": "code",
   "execution_count": null,
   "metadata": {},
   "outputs": [],
   "source": [
    "# CNN\n",
    "X_train_cnn, X_temp_cnn, y_train_cnn, y_temp_cnn = train_test_split(\n",
    "    X_scaled, y, test_size=0.3, random_state=42)\n",
    "\n",
    "X_val_cnn, X_test_cnn, y_val_cnn, y_test_cnn = train_test_split(\n",
    "    X_temp_cnn, y_temp_cnn, test_size=0.5, random_state=42)\n",
    "\n",
    "print(\"Shape of X_train:\", X_train_cnn.shape)\n",
    "\n",
    "sequence_length = X_train_cnn.shape[1]\n",
    "num_features = 1\n",
    "\n",
    "X_train_reshaped_cnn = X_train_cnn.reshape(-1, sequence_length, num_features)\n",
    "X_val_reshaped_cnn = X_val_cnn.reshape(-1, sequence_length, num_features)\n",
    "X_test_reshaped_cnn = X_test_cnn.reshape(-1, sequence_length, num_features)\n"
   ]
  },
  {
   "cell_type": "code",
   "execution_count": null,
   "metadata": {},
   "outputs": [],
   "source": [
    "cnn_model = Sequential()\n",
    "\n",
    "cnn_model.add(Conv1D(filters=64, kernel_size=3, activation=\"relu\", input_shape=(\n",
    "    sequence_length, num_features), kernel_regularizer=regularizers.l1_l2(l1=0.001, l2=0.001)))\n",
    "\n",
    "cnn_model.add(MaxPooling1D(pool_size=2))\n",
    "\n",
    "cnn_model.add(Conv1D(filters=32, kernel_size=3, activation=\"relu\"))\n",
    "\n",
    "cnn_model.add(MaxPooling1D(pool_size=2))\n",
    "\n",
    "cnn_model.add(Flatten())\n",
    "\n",
    "cnn_model.add(Dense(128, activation=\"relu\"))\n",
    "\n",
    "cnn_model.add(Dropout(0.5))\n"
   ]
  },
  {
   "cell_type": "code",
   "execution_count": null,
   "metadata": {},
   "outputs": [],
   "source": [
    "cnn_adam_optimizer = Adam(learning_rate=0.001)\n",
    "cnn_model.compile(optimizer=cnn_adam_optimizer,\n",
    "                  loss='binary_crossentropy', metrics=['accuracy'])\n",
    "cnn_adam_history = cnn_model.fit(X_train_reshaped_cnn, y_train_cnn, epochs=30,\n",
    "                                 batch_size=32, validation_data=(X_val_reshaped_cnn, y_val_cnn))\n"
   ]
  },
  {
   "cell_type": "code",
   "execution_count": null,
   "metadata": {},
   "outputs": [],
   "source": [
    "cnn_nadam_optimizer = Nadam(learning_rate=0.001)\n",
    "cnn_model.compile(optimizer=cnn_nadam_optimizer,\n",
    "                  loss='binary_crossentropy', metrics=['accuracy'])\n",
    "cnn_nadam_history = cnn_model.fit(X_train_reshaped_cnn, y_train_cnn, epochs=30,\n",
    "                                  batch_size=32, validation_data=(X_val_reshaped_cnn, y_val_cnn))\n"
   ]
  },
  {
   "cell_type": "code",
   "execution_count": null,
   "metadata": {},
   "outputs": [],
   "source": [
    "cnn_adagrad_optimizer = Adagrad(learning_rate=0.001)\n",
    "cnn_model.compile(optimizer=cnn_adagrad_optimizer,\n",
    "                  loss='binary_crossentropy', metrics=['accuracy'])\n",
    "cnn_adagrad_history = cnn_model.fit(X_train_reshaped_cnn, y_train_cnn, epochs=30,\n",
    "                                    batch_size=32, validation_data=(X_val_reshaped_cnn, y_val_cnn))\n"
   ]
  },
  {
   "cell_type": "code",
   "execution_count": null,
   "metadata": {},
   "outputs": [],
   "source": [
    "cnn_loss, cnn_accuracy = cnn_model.evaluate(X_test_reshaped_cnn, y_test_cnn)\n",
    "print(\"Test CNN Loss: \", cnn_loss)\n",
    "print(\"Test CNN Accuracy: \", cnn_accuracy)\n"
   ]
  },
  {
   "cell_type": "code",
   "execution_count": null,
   "metadata": {},
   "outputs": [],
   "source": [
    "plt.figure(figsize=(12, 6))\n",
    "\n",
    "# plt.plot(lstm_adam_history.history[\"accuracy\"],\n",
    "#          label=\"LSTM adam training accuracy\", color='blue')\n",
    "# plt.plot(lstm_adam_history.history[\"val_accuracy\"],\n",
    "#          label=\"LSTM adam validation accuracy\", color='lightblue')\n",
    "\n",
    "# plt.plot(gru_adam_history.history[\"accuracy\"],\n",
    "#          label=\"GRU adam training accuracy\", color='green')\n",
    "# plt.plot(gru_adam_history.history[\"val_accuracy\"],\n",
    "#          label=\"GRU adam validation accuracy\", color='lightgreen')\n",
    "\n",
    "# plt.plot(cnn_adam_history.history[\"accuracy\"],\n",
    "#          label=\"CNN adam training accuracy\", color='orange')\n",
    "# plt.plot(cnn_adam_history.history[\"val_accuracy\"],\n",
    "#          label=\"CNN adam validation accuracy\", color='gold')\n",
    "\n",
    "lstm_adam_train_acc = np.mean(lstm_adam_history.history[\"accuracy\"])\n",
    "# lstm_adam_val_acc = lstm_adam_history.history[\"val_accuracy\"]\n",
    "\n",
    "gru_adam_train_acc = np.mean(gru_adam_history.history[\"accuracy\"])\n",
    "# gru_adam_val_acc = gru_adam_history.history[\"val_accuracy\"]\n",
    "\n",
    "cnn_adam_train_acc = np.mean(cnn_adam_history.history[\"accuracy\"])\n",
    "# cnn_adam_val_acc = cnn_adam_history.history[\"val_accuracy\"]\n",
    "\n",
    "# epochs = range(1, len(lstm_adam_train_acc) + 1)\n",
    "# print(\"epochs: \", epochs)\n",
    "models = ['LSTM', 'GRU', 'CNN']\n",
    "adam_accuracies = [lstm_adam_train_acc, gru_adam_train_acc, cnn_adam_train_acc]\n",
    "# bar_width = 0.2\n",
    "\n",
    "# plt.bar(epochs, lstm_adam_train_acc, width=bar_width,\n",
    "#         label=\"LSTM adam training accuracy\", color='blue')\n",
    "# plt.bar([e + bar_width for e in epochs], lstm_adam_val_acc, width=bar_width, label=\"LSTM adam validation accuracy\", color='lightblue')\n",
    "\n",
    "plt.bar(models, adam_accuracies, label=['LSTM adam training accuracy',\n",
    "        'GRU adam training accuracy', 'CNN adam training accuracy'], color=['blue', 'red', 'orange'])\n",
    "\n",
    "# plt.bar([e + 1 * bar_width for e in epochs], gru_adam_train_acc,\n",
    "#         width=bar_width, label=\"GRU adam training accuracy\", color='red')\n",
    "\n",
    "# plt.bar([e + 2 * bar_width for e in epochs], cnn_adam_train_acc,\n",
    "#         width=bar_width, label=\"CNN adam training accuracy\", color='orange')\n",
    "\n",
    "plt.title(\"Training and Validation Accuracy Comparison\")\n",
    "plt.xlabel(\"Models\")\n",
    "plt.ylabel(\"Accuracy\")\n",
    "# plt.xticks([e + 2 * bar_width for e in epochs], epochs)\n",
    "plt.legend()\n",
    "plt.grid(True)\n",
    "plt.show()\n"
   ]
  },
  {
   "cell_type": "code",
   "execution_count": null,
   "metadata": {},
   "outputs": [],
   "source": [
    "plt.figure(figsize=(12, 6))\n",
    "\n",
    "# plt.plot(lstm_nadam_history.history[\"accuracy\"],\n",
    "#          label=\"LSTM nadam training accuracy\", color='blue')\n",
    "# plt.plot(lstm_nadam_history.history[\"val_accuracy\"],\n",
    "#          label=\"LSTM nadam validation accuracy\", color='lightblue')\n",
    "\n",
    "# plt.plot(gru_nadam_history.history[\"accuracy\"],\n",
    "#          label=\"GRU nadam training accuracy\", color='green')\n",
    "# plt.plot(gru_nadam_history.history[\"val_accuracy\"],\n",
    "#          label=\"GRU nadam validation accuracy\", color='lightgreen')\n",
    "\n",
    "# plt.plot(cnn_nadam_history.history[\"accuracy\"],\n",
    "#          label=\"CNN nadam training accuracy\", color='orange')\n",
    "# plt.plot(cnn_nadam_history.history[\"val_accuracy\"],\n",
    "#          label=\"CNN nadam validation accuracy\", color='gold')\n",
    "\n",
    "lstm_nadam_train_acc = np.mean(lstm_nadam_history.history[\"accuracy\"])\n",
    "# lstm_nadam_val_acc = lstm_nadam_history.history[\"val_accuracy\"]\n",
    "\n",
    "gru_nadam_train_acc = np.mean(gru_nadam_history.history[\"accuracy\"])\n",
    "# gru_nadam_val_acc = gru_nadam_history.history[\"val_accuracy\"]\n",
    "\n",
    "cnn_nadam_train_acc = np.mean(cnn_nadam_history.history[\"accuracy\"])\n",
    "# cnn_nadam_val_acc = cnn_nadam_history.history[\"val_accuracy\"]\n",
    "\n",
    "nadam_accuracies = [lstm_nadam_train_acc,\n",
    "                    gru_nadam_train_acc, cnn_nadam_train_acc]\n",
    "\n",
    "# plt.bar(epochs, lstm_nadam_train_acc, width=bar_width,\n",
    "#         label=\"LSTM nadam training accuracy\", color='blue')\n",
    "\n",
    "# plt.bar([e + 1 * bar_width for e in epochs], gru_nadam_train_acc,\n",
    "#         width=bar_width, label=\"GRU nadam training accuracy\", color='red')\n",
    "\n",
    "# plt.bar([e + 2 * bar_width for e in epochs], cnn_nadam_train_acc,\n",
    "#         width=bar_width, label=\"CNN nadam training accuracy\", color='orange')\n",
    "\n",
    "plt.bar(models, nadam_accuracies, label=['LSTM nadam training accuracy',\n",
    "        'GRU nadam training accuracy', 'CNN nadam training accuracy'], color=['blue', 'red', 'orange'])\n",
    "\n",
    "plt.title('Training and Validation Accuracy Comparison')\n",
    "plt.xlabel('Models')\n",
    "plt.ylabel('Accuracy')\n",
    "# plt.xticks([e + 2 * bar_width for e in epochs], epochs)\n",
    "plt.legend()\n",
    "plt.grid(True)\n",
    "plt.show()\n"
   ]
  },
  {
   "cell_type": "code",
   "execution_count": null,
   "metadata": {},
   "outputs": [],
   "source": [
    "plt.figure(figsize=(12, 6))\n",
    "\n",
    "# plt.plot(lstm_adagrad_history.history[\"accuracy\"],\n",
    "#          label=\"LSTM adagrad training accuracy\", color='blue')\n",
    "# plt.plot(lstm_adagrad_history.history[\"val_accuracy\"],\n",
    "#          label=\"LSTM adagrad validation accuracy\", color='lightblue')\n",
    "\n",
    "# plt.plot(gru_adagrad_history.history[\"accuracy\"],\n",
    "#          label=\"GRU adagrad training accuracy\", color='green')\n",
    "# plt.plot(gru_adagrad_history.history[\"val_accuracy\"],\n",
    "#          label=\"GRU adagrad validation accuracy\", color='lightgreen')\n",
    "\n",
    "# plt.plot(cnn_adagrad_history.history[\"accuracy\"],\n",
    "#          label=\"CNN adagrad training accuracy\", color='orange')\n",
    "# plt.plot(cnn_adagrad_history.history[\"val_accuracy\"],\n",
    "#          label=\"CNN adagrad validation accuracy\", color='gold')\n",
    "\n",
    "lstm_adagrad_train_acc = np.mean(lstm_adagrad_history.history['accuracy'])\n",
    "# lstm_adagrad_val_acc = lstm_adagrad_history.history['val_accuracy']\n",
    "\n",
    "gru_adagrad_train_acc = np.mean(gru_adagrad_history.history['accuracy'])\n",
    "# gru_adagrad_val_acc = gru_adagrad_history.history['val_accuracy']\n",
    "\n",
    "cnn_adagrad_train_acc = np.mean(cnn_adagrad_history.history['accuracy'])\n",
    "# cnn_adagrad_val_acc = cnn_adagrad_history.history['val_accuracy']\n",
    "\n",
    "# plt.bar(epochs, lstm_adagrad_train_acc, width=bar_width,\n",
    "#         label=\"LSTM adagrad training accuracy\", color='blue')\n",
    "\n",
    "# plt.bar([e + 1 * bar_width for e in epochs], gru_adagrad_train_acc,\n",
    "#         width=bar_width, label=\"GRU adagrad training accuracy\", color='red')\n",
    "\n",
    "# plt.bar([e + 2 * bar_width for e in epochs], cnn_adagrad_train_acc,\n",
    "#         width=bar_width, label=\"CNN adagrad training accuracy\", color='orange')\n",
    "\n",
    "adagrad_accuracies = [lstm_adagrad_train_acc,\n",
    "                      gru_adagrad_train_acc, cnn_adagrad_train_acc]\n",
    "plt.bar(models, adagrad_accuracies,  label=['LSTM adagrad training accuracy',\n",
    "        'GRU adagrad training accuracy', 'CNN adagrad training accuracy'], color=['blue', 'red',  'orange'])\n",
    "\n",
    "plt.title('Training and Validation Accuracy Comparison')\n",
    "plt.xlabel('Models')\n",
    "plt.ylabel('Accuracy')\n",
    "# plt.xticks([e + 2 * bar_width for e in epochs], epochs)\n",
    "plt.legend()\n",
    "plt.grid(True)\n",
    "plt.show()\n"
   ]
  }
 ],
 "metadata": {
  "kernelspec": {
   "display_name": "Python 3",
   "language": "python",
   "name": "python3"
  },
  "language_info": {
   "codemirror_mode": {
    "name": "ipython",
    "version": 3
   },
   "file_extension": ".py",
   "mimetype": "text/x-python",
   "name": "python",
   "nbconvert_exporter": "python",
   "pygments_lexer": "ipython3",
   "version": "3.11.4"
  }
 },
 "nbformat": 4,
 "nbformat_minor": 2
}
